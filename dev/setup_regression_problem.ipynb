{
 "cells": [
  {
   "cell_type": "code",
   "execution_count": 5,
   "metadata": {
    "collapsed": true
   },
   "outputs": [],
   "source": [
    "%matplotlib inline\n",
    "import numpy as np\n",
    "import scipy \n",
    "import cvxpy as cvx\n",
    "import random\n",
    "from scipy.stats import multivariate_normal as mn\n",
    "from sklearn.linear_model import LogisticRegression as LR"
   ]
  },
  {
   "cell_type": "markdown",
   "metadata": {},
   "source": [
    "## Setup the synthetic data"
   ]
  },
  {
   "cell_type": "code",
   "execution_count": 2,
   "metadata": {
    "collapsed": true
   },
   "outputs": [],
   "source": [
    "eta = 0.01\n",
    "nC = 20 # number of points per class\n",
    "p  = 3 # number of domains\n",
    "C  = 10 # number of classes\n",
    "n  = nC*p*C\n",
    "U = 1.0/n"
   ]
  },
  {
   "cell_type": "code",
   "execution_count": 3,
   "metadata": {
    "collapsed": true
   },
   "outputs": [],
   "source": [
    "def get_random_D_h(nC, p, C):\n",
    "    D = np.random.rand(nC*p*C,C,p) # prob point n is in domain p and class C\n",
    "    h = np.random.rand(nC*p*C,C,p) # score for point n in domain p and class C\n",
    "    # normalize D and h\n",
    "    for k in range(p): # loop over domain\n",
    "        D[:,:,k] = D[:,:,k] / D[:,:,k].sum()\n",
    "    \n",
    "        for i in range(nC):\n",
    "            h[i,:,k] = h[i,:,k]/h[i,:,k].sum() # since this is the output of a softmax function its normalized over classes \n",
    "    return D,h"
   ]
  },
  {
   "cell_type": "markdown",
   "metadata": {},
   "source": [
    "# Define a data problem"
   ]
  },
  {
   "cell_type": "code",
   "execution_count": 22,
   "metadata": {
    "collapsed": true
   },
   "outputs": [],
   "source": [
    "class synthetic_problem():\n",
    "    \n",
    "    def __init__(self, p=3, nC=20, c=10, seed=1337):\n",
    "        self.p = p # number of domains\n",
    "        self.nC = nC # pts per class\n",
    "        self.C = C # number of classes\n",
    "        self.n = nC * p * C # num pts\n",
    "        self.U = 1.0 / self.n # unif dist\n",
    "        self.eta = 0.01\n",
    "        self.seed = seed\n",
    "        \n",
    "        np.random.seed(seed)\n",
    "        self.generate_density()\n",
    "        self.generate_regressor()\n",
    "        \n",
    "    def generate_density(self):\n",
    "        D = np.random.rand(self.n,self.p)\n",
    "        # Normalize each domain\n",
    "        for k in range(self.p):\n",
    "            D[:,k] = D[:,k] / D[:,k].sum()\n",
    "        self.D = D\n",
    "    \n",
    "    def generate_regressor(self):\n",
    "        h = np.random.rand(self.n,self.p)\n",
    "        for k in range(self.p):\n",
    "            h[:,k] = h[:,k] / h[:,k].sum()\n",
    "        self.h = h\n",
    "        \n",
    "        # compute H\n",
    "        self.H = np.zeros(self.n)\n",
    "        for i in range(self.n):\n",
    "            self.H[i] = 1.0 / self.p * h[i,:].sum()\n",
    "        \n",
    "    def get_marginal_density(self):\n",
    "        return self.D\n",
    "    \n",
    "    def get_regressor(self):\n",
    "        return self.h\n",
    "    \n",
    "    def get_H(self):\n",
    "        return self.H"
   ]
  },
  {
   "cell_type": "markdown",
   "metadata": {},
   "source": [
    "# Optimization"
   ]
  },
  {
   "cell_type": "markdown",
   "metadata": {},
   "source": [
    "## Objective\n",
    "* z_{t+1} = argmin gamma\n",
    "* subject to\n",
    "    * u_k(z) - v_k(z_t) - (z - z_t) grad_{v_k(z_t)} <= g for all k in [p]\n",
    "    * -z_k <= 0 forall k in [p]\n",
    "    * sum_{k=1}^p z_k - 1 = 0"
   ]
  },
  {
   "cell_type": "code",
   "execution_count": 193,
   "metadata": {
    "collapsed": false
   },
   "outputs": [],
   "source": [
    "def compute_H(x, DP):\n",
    "    return DP.get_H()[x]\n",
    "\n",
    "def compute_Dz(x, z, DP):\n",
    "    \"\"\" Dz = sum_k z_k * D_k(x)\"\"\"\n",
    "    D = DP.get_marginal_density()[x,:]\n",
    "    Dz = 0\n",
    "    for k in range(DP.p):\n",
    "        Dz += z[k] * D[k]\n",
    "    return Dz\n",
    "\n",
    "def compute_Jz(x, z, DP):\n",
    "    const = DP.eta * DP.U * compute_H(x, DP)\n",
    "    D = DP.get_marginal_density()[x,:]\n",
    "    h = DP.get_regressor()[x,:]\n",
    "#    zDh = z*D*h\n",
    "    zDh = 0\n",
    "    for k in range(DP.p):\n",
    "        zDh += z[k] * D[k] * h[k]\n",
    "    return zDh + p*const\n",
    "#    return sum(zDh + const)\n",
    "\n",
    "def compute_Kz(x, z, DP):\n",
    "    return compute_Dz(x, z, DP) + DP.eta * DP.U\n",
    "\n",
    "def compute_hz(x, z, DP, Jz=None, Kz=None, CX=False):\n",
    "    if Jz is None:\n",
    "        Jz = compute_Jz(x, z, DP)\n",
    "    if Kz is None:\n",
    "        Kz = compute_Kz(x, z, DP)\n",
    "        \n",
    "    if CX:\n",
    "        return Jz * cvx.inv_pos(Kz)\n",
    "    else:\n",
    "        return Jz / Kz\n",
    "\n",
    "def compute_fz(x, z, DP, Jz=None, Kz=None):\n",
    "    if not Jz:\n",
    "        Jz = compute_Jz(x, z, DP)\n",
    "    if not Kz:\n",
    "        Kz = compute_Kz(x, z, DP)\n",
    "    return (Jz + 1) ** 2 / (2*Kz)\n",
    "\n",
    "def compute_gz(x, z, DP, Jz=None, Kz=None):\n",
    "    if not Jz:\n",
    "        Jz = compute_Jz(x, z, DP)\n",
    "    if not Kz:\n",
    "        Kz = compute_Kz(x, z, DP)\n",
    "    return ((Jz**2) + 1) / (2*Kz)\n",
    "\n",
    "def compute_Fz(x, z, DP, fz=None, gz=None):\n",
    "    if not fz:\n",
    "        fz = compute_fz(x, z, DP)\n",
    "    if not gz:\n",
    "        gz = compute_gz(x, z, DP)\n",
    "    return 2 * (fz**2) + 2 * (gz**2)\n",
    "\n",
    "def compute_Gz(x, z, DP, fz=None, gz=None):\n",
    "    if not fz:\n",
    "        fz = compute_fz(x, z, DP)\n",
    "    if not gz:\n",
    "        gz = compute_gz(x, z, DP)\n",
    "    return (fz + gz)**2\n",
    "\n",
    "def compute_grad_Jz(x, z, DP):\n",
    "    D = DP.get_marginal_density()\n",
    "    h = DP.get_regressor()\n",
    "    return D[x,:] * h[x,:]\n",
    "\n",
    "def compute_grad_Kz(x, z, DP):\n",
    "    D = DP.get_marginal_density()[x,:]\n",
    "    return D\n",
    "\n",
    "def compute_grad_gz(x, z, DP, grad_Jz=None, \n",
    "                    grad_Kz=None, Jz=None,\n",
    "                   Kz=None):\n",
    "    if grad_Jz is None:\n",
    "        grad_Jz = compute_grad_Jz(x, z, DP)\n",
    "    if grad_Kz is None:\n",
    "        grad_Kz = compute_grad_Kz(x, z, DP)\n",
    "    if not Jz:\n",
    "        Jz = compute_Jz(x, z, DP)\n",
    "    if not Kz:\n",
    "        Kz = compute_Kz(x, z, DP)\n",
    "    return (Jz * grad_Jz) / Kz - (((Jz**2) + 1)*grad_Kz) / Kz\n",
    "\n",
    "def compute_grad_fz(x, z, DP, Jz=None, Kz=None,\n",
    "                    grad_Jz=None, grad_Kz=None):\n",
    "    if grad_Jz is None:\n",
    "        grad_Jz = compute_grad_Jz(x, z, DP)\n",
    "    if grad_Kz is None:\n",
    "        grad_Kz = compute_grad_Kz(x, z, DP)\n",
    "    if not Jz:\n",
    "        Jz = compute_Jz(x, z, DP)\n",
    "    if not Kz:\n",
    "        Kz = compute_Kz(x, z, DP)\n",
    "    return (Jz + 1)*grad_Jz / Kz - (Jz+1)**2 * grad_Kz / (Kz**2)\n",
    "\n",
    "def compute_grad_Gz(x, z, DP, fz=None, gz=None,\n",
    "                   grad_fz=None, grad_gz=None):\n",
    "    if not fz:\n",
    "        fz = compute_fz(x, z, DP)\n",
    "    if not gz:\n",
    "        gz = compute_gz(x, z, DP)\n",
    "    if grad_fz is None:\n",
    "        grad_fz = compute_grad_fz(x, z, DP)\n",
    "    if grad_gz is None:\n",
    "        grad_gz = compute_grad_gz(x, z, DP)\n",
    "    return 2 * (fz + gz) * (grad_fz + grad_gz)"
   ]
  },
  {
   "cell_type": "code",
   "execution_count": 185,
   "metadata": {
    "collapsed": false
   },
   "outputs": [
    {
     "name": "stdout",
     "output_type": "stream",
     "text": [
      "z: [ 0.00166667  0.00166667  0.00166667] x: 0\n",
      "H(x) 0.00204966305016\n",
      "Dz(x) 3.82396517581e-06\n",
      "Jz(x) 1.10664488896e-07\n",
      "Kz(x) 2.04906318425e-05\n",
      "fz(x) 24401.400333\n",
      "gz(x) 24401.3949323\n",
      "Fz(x) 2381712825.7\n",
      "Gz(x) 2381712825.7\n",
      "grad_Jz(x) [  1.27558605e-06   7.93751866e-07   2.83946392e-06]\n",
      "grad_Kz(x) [ 0.00087519  0.00053069  0.0008885 ]\n",
      "grad_gz(x) [-42.71173161 -25.898915   -43.36145472]\n",
      "grad_fz(x) [-2084452.06200754 -1263939.54750309 -2116160.29349099]\n",
      "grad_Gz(x) [ -2.03458343e+11  -1.23370094e+11  -2.06553307e+11]\n"
     ]
    }
   ],
   "source": [
    "DP = synthetic_problem()\n",
    "zp = np.repeat(DP.U, DP.p)\n",
    "x=0\n",
    "print 'z:', zp, 'x:', x\n",
    "print 'H(x)', compute_H(x, DP)\n",
    "print 'Dz(x)', compute_Dz(x, zp, DP)\n",
    "print 'Jz(x)', compute_Jz(x, zp, DP)\n",
    "print 'Kz(x)', compute_Kz(x, zp, DP)\n",
    "print 'fz(x)', compute_fz(x, zp, DP)\n",
    "print 'gz(x)', compute_gz(x, zp, DP)\n",
    "print 'Fz(x)', compute_Fz(x, zp, DP)\n",
    "print 'Gz(x)', compute_Gz(x, zp, DP)\n",
    "print 'grad_Jz(x)', compute_grad_Jz(x, zp, DP)\n",
    "print 'grad_Kz(x)', compute_grad_Kz(x, zp, DP)\n",
    "print 'grad_gz(x)', compute_grad_gz(x, zp, DP)\n",
    "print 'grad_fz(x)', compute_grad_fz(x, zp, DP)\n",
    "print 'grad_Gz(x)', compute_grad_Gz(x, zp, DP)"
   ]
  },
  {
   "cell_type": "code",
   "execution_count": 186,
   "metadata": {
    "collapsed": false
   },
   "outputs": [
    {
     "name": "stdout",
     "output_type": "stream",
     "text": [
      "z: [ 0.00166667  0.00166667  0.00166667] x: 0\n",
      "fz(x) 24401.400333\n",
      "gz(x) 24401.3949323\n",
      "Fz(x) 2381712825.7\n",
      "Gz(x) 2381712825.7\n",
      "grad_Jz(x) [  1.27558605e-06   7.93751866e-07   2.83946392e-06]\n",
      "grad_Kz(x) [ 0.00087519  0.00053069  0.0008885 ]\n",
      "grad_gz(x) [-42.71173161 -25.898915   -43.36145472]\n",
      "grad_fz(x) [-2084452.06200754 -1263939.54750309 -2116160.29349099]\n",
      "grad_Gz(x) [ -2.03458343e+11  -1.23370094e+11  -2.06553307e+11]\n"
     ]
    }
   ],
   "source": [
    "print 'z:', zp, 'x:', x\n",
    "H = compute_H(x, DP)\n",
    "Dz = compute_Dz(x, zp, DP)\n",
    "Jz = compute_Jz(x, zp, DP)\n",
    "Kz = compute_Kz(x, zp, DP)\n",
    "fz = compute_fz(x, zp, DP, Jz=Jz, Kz=Kz)\n",
    "gz = compute_gz(x, zp, DP, Jz=Jz, Kz=Kz)\n",
    "Fz = compute_Fz(x, zp, DP, fz=fz, gz=gz)\n",
    "Gz = compute_Gz(x, zp, DP, fz=fz, gz=gz)\n",
    "grad_Jz = compute_grad_Jz(x, zp, DP)\n",
    "grad_Kz = compute_grad_Kz(x, zp, DP)\n",
    "grad_gz = compute_grad_gz(x, zp, DP, Jz=Jz, \n",
    "                          Kz=Kz, grad_Jz=grad_Jz,\n",
    "                         grad_Kz=grad_Kz)\n",
    "print 'fz(x)', fz\n",
    "print 'gz(x)', gz\n",
    "print 'Fz(x)', Fz\n",
    "print 'Gz(x)', Gz\n",
    "print 'grad_Jz(x)', grad_Jz\n",
    "print 'grad_Kz(x)', grad_Kz\n",
    "print 'grad_gz(x)', grad_gz\n",
    "print 'grad_fz(x)', compute_grad_fz(x, zp, DP)\n",
    "print 'grad_Gz(x)', compute_grad_Gz(x, zp, DP)"
   ]
  },
  {
   "cell_type": "code",
   "execution_count": 194,
   "metadata": {
    "collapsed": false
   },
   "outputs": [],
   "source": [
    "def compute_u(z, DP):\n",
    "    D = DP.get_marginal_density()\n",
    "    h = DP.get_regressor()\n",
    "    etaU = DP.eta * DP.U\n",
    "\n",
    "    # sum_k z_k * (sum_x Dk(x) * h_k(x)^2)\n",
    "    const = 0\n",
    "    v = (D * (h**2)).sum(axis=0)\n",
    "    for k in range(DP.p):\n",
    "        const += z[k] * v[k]\n",
    "    \n",
    "    u = np.zeros(DP.p)\n",
    "    for x in range(DP.n):\n",
    "        H = compute_H(x, DP)\n",
    "        Dz = compute_Dz(x, z, DP)\n",
    "        Jz = compute_Jz(x, z, DP)\n",
    "        Kz = compute_Kz(x, z, DP)\n",
    "        hz = compute_hz(x, z, DP, Jz=Jz, Kz=Kz, CX=True)\n",
    "        fz = compute_fz(x, z, DP, Jz=Jz, Kz=Kz)\n",
    "        gz = compute_gz(x, z, DP, Jz=Jz, Kz=Kz)\n",
    "        Fz = compute_Fz(x, z, DP, fz=fz, gz=gz)\n",
    "        Gz = compute_Gz(x, z, DP, fz=fz, gz=gz)\n",
    "        for k in range(DP.p):\n",
    "            Dk = D[x,k]\n",
    "            hk = h[x,k]\n",
    "\n",
    "            v1 = Dk * (Fz + 2*hk*gz + hk**2)\n",
    "            v2 = etaU*Fz + Jz*hz + 2*etaU*H*gz\n",
    "            u[k] += v1 + v2 - const\n",
    "    return u\n",
    "        \n",
    "\n",
    "def compute_v(z, DP):\n",
    "    D = DP.get_marginal_density()\n",
    "    h = DP.get_regressor()\n",
    "    H = DP.get_H()\n",
    "    \n",
    "    v = np.zeros(DP.p)\n",
    "    for x in range(DP.n):\n",
    "        Gz = compute_Gz(x, z, DP)\n",
    "        fz = compute_fz(x, z, DP)\n",
    "        etaU = DP.eta * DP.U\n",
    "        etaUH = etaU * H[x]\n",
    "        va = D[x,:] + etaU\n",
    "        vb = 2 * h[x,:]*D[x,:] + 2 * etaUH\n",
    "        v += (Gz * va) + (fz * vb)\n",
    "\n",
    "    return v\n",
    "        \n",
    "\n",
    "def compute_grad_v(z, DP):\n",
    "    D = DP.get_marginal_density()\n",
    "    h = DP.get_regressor()\n",
    "    H = DP.get_H()\n",
    "    \n",
    "    grad_v = np.zeros(DP.p)\n",
    "    for x in range(DP.n):\n",
    "        grad_Gz = compute_grad_Gz(x, z, DP)\n",
    "        grad_fz = compute_grad_fz(x, z, DP)\n",
    "        etaU = DP.eta * DP.U\n",
    "        etaUH = etaU * H[x]\n",
    "        va = D[x,:] + etaU\n",
    "        vb = 2 * h[x,:]*D[x,:] + 2 * etaUH\n",
    "        \n",
    "        grad_v += (grad_Gz * va) + (grad_fz * vb)\n",
    "\n",
    "    return grad_v    "
   ]
  },
  {
   "cell_type": "code",
   "execution_count": 196,
   "metadata": {
    "collapsed": false
   },
   "outputs": [
    {
     "ename": "ValueError",
     "evalue": "setting an array element with a sequence.",
     "output_type": "error",
     "traceback": [
      "\u001b[0;31m---------------------------------------------------------------------------\u001b[0m",
      "\u001b[0;31mValueError\u001b[0m                                Traceback (most recent call last)",
      "\u001b[0;32m<ipython-input-196-49cb8fe9f1d2>\u001b[0m in \u001b[0;36m<module>\u001b[0;34m()\u001b[0m\n\u001b[0;32m----> 1\u001b[0;31m \u001b[0mu\u001b[0m \u001b[0;34m=\u001b[0m \u001b[0mcompute_u\u001b[0m\u001b[0;34m(\u001b[0m\u001b[0mzp\u001b[0m\u001b[0;34m,\u001b[0m \u001b[0mDP\u001b[0m\u001b[0;34m)\u001b[0m\u001b[0;34m\u001b[0m\u001b[0m\n\u001b[0m\u001b[1;32m      2\u001b[0m \u001b[0;32mprint\u001b[0m \u001b[0mu\u001b[0m\u001b[0;34m[\u001b[0m\u001b[0;34m:\u001b[0m\u001b[0;34m,\u001b[0m\u001b[0mnp\u001b[0m\u001b[0;34m.\u001b[0m\u001b[0mnewaxis\u001b[0m\u001b[0;34m]\u001b[0m\u001b[0;34m.\u001b[0m\u001b[0mshape\u001b[0m\u001b[0;34m\u001b[0m\u001b[0m\n",
      "\u001b[0;32m<ipython-input-194-89310811c710>\u001b[0m in \u001b[0;36mcompute_u\u001b[0;34m(z, DP)\u001b[0m\n\u001b[1;32m     27\u001b[0m             \u001b[0mv1\u001b[0m \u001b[0;34m=\u001b[0m \u001b[0mDk\u001b[0m \u001b[0;34m*\u001b[0m \u001b[0;34m(\u001b[0m\u001b[0mFz\u001b[0m \u001b[0;34m+\u001b[0m \u001b[0;36m2\u001b[0m\u001b[0;34m*\u001b[0m\u001b[0mhk\u001b[0m\u001b[0;34m*\u001b[0m\u001b[0mgz\u001b[0m \u001b[0;34m+\u001b[0m \u001b[0mhk\u001b[0m\u001b[0;34m**\u001b[0m\u001b[0;36m2\u001b[0m\u001b[0;34m)\u001b[0m\u001b[0;34m\u001b[0m\u001b[0m\n\u001b[1;32m     28\u001b[0m             \u001b[0mv2\u001b[0m \u001b[0;34m=\u001b[0m \u001b[0metaU\u001b[0m\u001b[0;34m*\u001b[0m\u001b[0mFz\u001b[0m \u001b[0;34m+\u001b[0m \u001b[0mJz\u001b[0m\u001b[0;34m*\u001b[0m\u001b[0mhz\u001b[0m \u001b[0;34m+\u001b[0m \u001b[0;36m2\u001b[0m\u001b[0;34m*\u001b[0m\u001b[0metaU\u001b[0m\u001b[0;34m*\u001b[0m\u001b[0mH\u001b[0m\u001b[0;34m*\u001b[0m\u001b[0mgz\u001b[0m\u001b[0;34m\u001b[0m\u001b[0m\n\u001b[0;32m---> 29\u001b[0;31m             \u001b[0mu\u001b[0m\u001b[0;34m[\u001b[0m\u001b[0mk\u001b[0m\u001b[0;34m]\u001b[0m \u001b[0;34m+=\u001b[0m \u001b[0mv1\u001b[0m \u001b[0;34m+\u001b[0m \u001b[0mv2\u001b[0m \u001b[0;34m-\u001b[0m \u001b[0mconst\u001b[0m\u001b[0;34m\u001b[0m\u001b[0m\n\u001b[0m\u001b[1;32m     30\u001b[0m     \u001b[0;32mreturn\u001b[0m \u001b[0mu\u001b[0m\u001b[0;34m\u001b[0m\u001b[0m\n\u001b[1;32m     31\u001b[0m \u001b[0;34m\u001b[0m\u001b[0m\n",
      "\u001b[0;31mValueError\u001b[0m: setting an array element with a sequence."
     ]
    }
   ],
   "source": [
    "u = compute_u(zp, DP)\n",
    "print u[:,np.newaxis].shape"
   ]
  },
  {
   "cell_type": "markdown",
   "metadata": {},
   "source": [
    "# Optimization"
   ]
  },
  {
   "cell_type": "code",
   "execution_count": 189,
   "metadata": {
    "collapsed": true
   },
   "outputs": [],
   "source": [
    "def solve_iter(z_prev, DP):\n",
    "    # setup variables\n",
    "    z = cvx.Variable(DP.p) # variables are z\n",
    "    print z.size, z_prev.shape, type(z), type(z_prev)\n",
    "    gamma = cvx.Variable()\n",
    "    objective = cvx.Minimize(gamma)\n",
    "\n",
    "    constraints = [0 <= z, cvx.sum_entries(z) == 1]\n",
    "    grad_v = compute_grad_v(z_prev, DP)\n",
    "    v = compute_v(z_prev, DP)\n",
    "    u = compute_u(z, DP)\n",
    "    constraints.append(u - z*grad_v + (v - z_prev * grad_v))\n",
    "    #\"\"\"Stopped here.\"\"\"\n",
    "    #return\n",
    "    #\n",
    "    #for k in range(p):\n",
    "    #    g_ = compute_grad_vk(k, z_prev, DP)\n",
    "    #    v_k = compute_vk(k, z_prev, DP)\n",
    "    #    u_k_z = compute_uk_z(k, z, DP)\n",
    "    #    c_k = - cvx.sum_entries(cvx.mul_elemwise(g_,z)) +  sum(z_prev*g_)\n",
    "    #    constraints.append(u_k_z - v_k + c_k <= gamma )\n",
    "    #print 'setup problem'\n",
    "    prob = cvx.Problem(objective, constraints)\n",
    "\n",
    "    #solvers.options['feastol']=1e-6      # slightly relaxed from default (avoids singular KKT messages)\n",
    "    #solvers.options['abstol']= 1e-9      # gives us good accuracy on final result\n",
    "    val = prob.solve(solver=cvx.ECOS, verbose=True, reltol=1e-4)\n",
    "    out = np.array(z.value).reshape(p)\n",
    "    print \"Optimal value\", val\n",
    "    print \"Optimal var\", out # A numpy array.\n",
    "    return out,val"
   ]
  },
  {
   "cell_type": "code",
   "execution_count": 190,
   "metadata": {
    "collapsed": false
   },
   "outputs": [
    {
     "name": "stdout",
     "output_type": "stream",
     "text": [
      "(3,)\n"
     ]
    }
   ],
   "source": [
    "print DP.get_marginal_density()[x,:].shape"
   ]
  },
  {
   "cell_type": "code",
   "execution_count": 191,
   "metadata": {
    "collapsed": false
   },
   "outputs": [
    {
     "name": "stdout",
     "output_type": "stream",
     "text": [
      "(3, 1) (3,) <class 'cvxpy.expressions.variables.variable.Variable'> <type 'numpy.ndarray'>\n"
     ]
    },
    {
     "ename": "DCPError",
     "evalue": "Can only divide by a scalar constant.",
     "output_type": "error",
     "traceback": [
      "\u001b[0;31m---------------------------------------------------------------------------\u001b[0m",
      "\u001b[0;31mDCPError\u001b[0m                                  Traceback (most recent call last)",
      "\u001b[0;32m<ipython-input-191-4f63eaa8a922>\u001b[0m in \u001b[0;36m<module>\u001b[0;34m()\u001b[0m\n\u001b[0;32m----> 1\u001b[0;31m \u001b[0mout\u001b[0m\u001b[0;34m,\u001b[0m \u001b[0mval\u001b[0m \u001b[0;34m=\u001b[0m \u001b[0msolve_iter\u001b[0m\u001b[0;34m(\u001b[0m\u001b[0mzp\u001b[0m\u001b[0;34m,\u001b[0m \u001b[0mDP\u001b[0m\u001b[0;34m)\u001b[0m\u001b[0;34m\u001b[0m\u001b[0m\n\u001b[0m",
      "\u001b[0;32m<ipython-input-189-a38aa7619b15>\u001b[0m in \u001b[0;36msolve_iter\u001b[0;34m(z_prev, DP)\u001b[0m\n\u001b[1;32m      9\u001b[0m     \u001b[0mgrad_v\u001b[0m \u001b[0;34m=\u001b[0m \u001b[0mcompute_grad_v\u001b[0m\u001b[0;34m(\u001b[0m\u001b[0mz_prev\u001b[0m\u001b[0;34m,\u001b[0m \u001b[0mDP\u001b[0m\u001b[0;34m)\u001b[0m\u001b[0;34m\u001b[0m\u001b[0m\n\u001b[1;32m     10\u001b[0m     \u001b[0mv\u001b[0m \u001b[0;34m=\u001b[0m \u001b[0mcompute_v\u001b[0m\u001b[0;34m(\u001b[0m\u001b[0mz_prev\u001b[0m\u001b[0;34m,\u001b[0m \u001b[0mDP\u001b[0m\u001b[0;34m)\u001b[0m\u001b[0;34m\u001b[0m\u001b[0m\n\u001b[0;32m---> 11\u001b[0;31m     \u001b[0mu\u001b[0m \u001b[0;34m=\u001b[0m \u001b[0mcompute_u\u001b[0m\u001b[0;34m(\u001b[0m\u001b[0mz\u001b[0m\u001b[0;34m,\u001b[0m \u001b[0mDP\u001b[0m\u001b[0;34m)\u001b[0m\u001b[0;34m\u001b[0m\u001b[0m\n\u001b[0m\u001b[1;32m     12\u001b[0m     \u001b[0mconstraints\u001b[0m\u001b[0;34m.\u001b[0m\u001b[0mappend\u001b[0m\u001b[0;34m(\u001b[0m\u001b[0mu\u001b[0m \u001b[0;34m-\u001b[0m \u001b[0mz\u001b[0m\u001b[0;34m*\u001b[0m\u001b[0mgrad_v\u001b[0m \u001b[0;34m+\u001b[0m \u001b[0;34m(\u001b[0m\u001b[0mv\u001b[0m \u001b[0;34m-\u001b[0m \u001b[0mz_prev\u001b[0m \u001b[0;34m*\u001b[0m \u001b[0mgrad_v\u001b[0m\u001b[0;34m)\u001b[0m\u001b[0;34m)\u001b[0m\u001b[0;34m\u001b[0m\u001b[0m\n\u001b[1;32m     13\u001b[0m     \u001b[0;31m#\"\"\"Stopped here.\"\"\"\u001b[0m\u001b[0;34m\u001b[0m\u001b[0;34m\u001b[0m\u001b[0m\n",
      "\u001b[0;32m<ipython-input-187-3f161391dcd7>\u001b[0m in \u001b[0;36mcompute_u\u001b[0;34m(z, DP)\u001b[0m\n\u001b[1;32m     16\u001b[0m         \u001b[0mJz\u001b[0m \u001b[0;34m=\u001b[0m \u001b[0mcompute_Jz\u001b[0m\u001b[0;34m(\u001b[0m\u001b[0mx\u001b[0m\u001b[0;34m,\u001b[0m \u001b[0mz\u001b[0m\u001b[0;34m,\u001b[0m \u001b[0mDP\u001b[0m\u001b[0;34m)\u001b[0m\u001b[0;34m\u001b[0m\u001b[0m\n\u001b[1;32m     17\u001b[0m         \u001b[0mKz\u001b[0m \u001b[0;34m=\u001b[0m \u001b[0mcompute_Kz\u001b[0m\u001b[0;34m(\u001b[0m\u001b[0mx\u001b[0m\u001b[0;34m,\u001b[0m \u001b[0mz\u001b[0m\u001b[0;34m,\u001b[0m \u001b[0mDP\u001b[0m\u001b[0;34m)\u001b[0m\u001b[0;34m\u001b[0m\u001b[0m\n\u001b[0;32m---> 18\u001b[0;31m         \u001b[0mhz\u001b[0m \u001b[0;34m=\u001b[0m \u001b[0mcompute_hz\u001b[0m\u001b[0;34m(\u001b[0m\u001b[0mx\u001b[0m\u001b[0;34m,\u001b[0m \u001b[0mz\u001b[0m\u001b[0;34m,\u001b[0m \u001b[0mDP\u001b[0m\u001b[0;34m,\u001b[0m \u001b[0mJz\u001b[0m\u001b[0;34m=\u001b[0m\u001b[0mJz\u001b[0m\u001b[0;34m,\u001b[0m \u001b[0mKz\u001b[0m\u001b[0;34m=\u001b[0m\u001b[0mKz\u001b[0m\u001b[0;34m)\u001b[0m\u001b[0;34m\u001b[0m\u001b[0m\n\u001b[0m\u001b[1;32m     19\u001b[0m         \u001b[0mfz\u001b[0m \u001b[0;34m=\u001b[0m \u001b[0mcompute_fz\u001b[0m\u001b[0;34m(\u001b[0m\u001b[0mx\u001b[0m\u001b[0;34m,\u001b[0m \u001b[0mz\u001b[0m\u001b[0;34m,\u001b[0m \u001b[0mDP\u001b[0m\u001b[0;34m,\u001b[0m \u001b[0mJz\u001b[0m\u001b[0;34m=\u001b[0m\u001b[0mJz\u001b[0m\u001b[0;34m,\u001b[0m \u001b[0mKz\u001b[0m\u001b[0;34m=\u001b[0m\u001b[0mKz\u001b[0m\u001b[0;34m)\u001b[0m\u001b[0;34m\u001b[0m\u001b[0m\n\u001b[1;32m     20\u001b[0m         \u001b[0mgz\u001b[0m \u001b[0;34m=\u001b[0m \u001b[0mcompute_gz\u001b[0m\u001b[0;34m(\u001b[0m\u001b[0mx\u001b[0m\u001b[0;34m,\u001b[0m \u001b[0mz\u001b[0m\u001b[0;34m,\u001b[0m \u001b[0mDP\u001b[0m\u001b[0;34m,\u001b[0m \u001b[0mJz\u001b[0m\u001b[0;34m=\u001b[0m\u001b[0mJz\u001b[0m\u001b[0;34m,\u001b[0m \u001b[0mKz\u001b[0m\u001b[0;34m=\u001b[0m\u001b[0mKz\u001b[0m\u001b[0;34m)\u001b[0m\u001b[0;34m\u001b[0m\u001b[0m\n",
      "\u001b[0;32m<ipython-input-184-407611c08d03>\u001b[0m in \u001b[0;36mcompute_hz\u001b[0;34m(x, z, DP, Jz, Kz)\u001b[0m\n\u001b[1;32m     29\u001b[0m     \u001b[0;32mif\u001b[0m \u001b[0mKz\u001b[0m \u001b[0;32mis\u001b[0m \u001b[0mNone\u001b[0m\u001b[0;34m:\u001b[0m\u001b[0;34m\u001b[0m\u001b[0m\n\u001b[1;32m     30\u001b[0m         \u001b[0mKz\u001b[0m \u001b[0;34m=\u001b[0m \u001b[0mcompute_Kz\u001b[0m\u001b[0;34m(\u001b[0m\u001b[0mx\u001b[0m\u001b[0;34m,\u001b[0m \u001b[0mz\u001b[0m\u001b[0;34m,\u001b[0m \u001b[0mDP\u001b[0m\u001b[0;34m)\u001b[0m\u001b[0;34m\u001b[0m\u001b[0m\n\u001b[0;32m---> 31\u001b[0;31m     \u001b[0;32mreturn\u001b[0m \u001b[0mJz\u001b[0m \u001b[0;34m/\u001b[0m \u001b[0mKz\u001b[0m\u001b[0;34m\u001b[0m\u001b[0m\n\u001b[0m\u001b[1;32m     32\u001b[0m \u001b[0;34m\u001b[0m\u001b[0m\n\u001b[1;32m     33\u001b[0m \u001b[0;32mdef\u001b[0m \u001b[0mcompute_fz\u001b[0m\u001b[0;34m(\u001b[0m\u001b[0mx\u001b[0m\u001b[0;34m,\u001b[0m \u001b[0mz\u001b[0m\u001b[0;34m,\u001b[0m \u001b[0mDP\u001b[0m\u001b[0;34m,\u001b[0m \u001b[0mJz\u001b[0m\u001b[0;34m=\u001b[0m\u001b[0mNone\u001b[0m\u001b[0;34m,\u001b[0m \u001b[0mKz\u001b[0m\u001b[0;34m=\u001b[0m\u001b[0mNone\u001b[0m\u001b[0;34m)\u001b[0m\u001b[0;34m:\u001b[0m\u001b[0;34m\u001b[0m\u001b[0m\n",
      "\u001b[0;32m/home/jhoffman/pyvirt/local/lib/python2.7/site-packages/cvxpy/expressions/expression.pyc\u001b[0m in \u001b[0;36mcast_op\u001b[0;34m(self, other)\u001b[0m\n\u001b[1;32m     43\u001b[0m         \"\"\"\n\u001b[1;32m     44\u001b[0m         \u001b[0mother\u001b[0m \u001b[0;34m=\u001b[0m \u001b[0mself\u001b[0m\u001b[0;34m.\u001b[0m\u001b[0mcast_to_const\u001b[0m\u001b[0;34m(\u001b[0m\u001b[0mother\u001b[0m\u001b[0;34m)\u001b[0m\u001b[0;34m\u001b[0m\u001b[0m\n\u001b[0;32m---> 45\u001b[0;31m         \u001b[0;32mreturn\u001b[0m \u001b[0mbinary_op\u001b[0m\u001b[0;34m(\u001b[0m\u001b[0mself\u001b[0m\u001b[0;34m,\u001b[0m \u001b[0mother\u001b[0m\u001b[0;34m)\u001b[0m\u001b[0;34m\u001b[0m\u001b[0m\n\u001b[0m\u001b[1;32m     46\u001b[0m     \u001b[0;32mreturn\u001b[0m \u001b[0mcast_op\u001b[0m\u001b[0;34m\u001b[0m\u001b[0m\n\u001b[1;32m     47\u001b[0m \u001b[0;34m\u001b[0m\u001b[0m\n",
      "\u001b[0;32m/home/jhoffman/pyvirt/local/lib/python2.7/site-packages/cvxpy/expressions/expression.pyc\u001b[0m in \u001b[0;36m__div__\u001b[0;34m(self, other)\u001b[0m\n\u001b[1;32m    320\u001b[0m             \u001b[0;32mreturn\u001b[0m \u001b[0mcvxtypes\u001b[0m\u001b[0;34m.\u001b[0m\u001b[0mdiv_expr\u001b[0m\u001b[0;34m(\u001b[0m\u001b[0;34m)\u001b[0m\u001b[0;34m(\u001b[0m\u001b[0mself\u001b[0m\u001b[0;34m,\u001b[0m \u001b[0mother\u001b[0m\u001b[0;34m)\u001b[0m\u001b[0;34m\u001b[0m\u001b[0m\n\u001b[1;32m    321\u001b[0m         \u001b[0;32melse\u001b[0m\u001b[0;34m:\u001b[0m\u001b[0;34m\u001b[0m\u001b[0m\n\u001b[0;32m--> 322\u001b[0;31m             \u001b[0;32mraise\u001b[0m \u001b[0mDCPError\u001b[0m\u001b[0;34m(\u001b[0m\u001b[0;34m\"Can only divide by a scalar constant.\"\u001b[0m\u001b[0;34m)\u001b[0m\u001b[0;34m\u001b[0m\u001b[0m\n\u001b[0m\u001b[1;32m    323\u001b[0m \u001b[0;34m\u001b[0m\u001b[0m\n\u001b[1;32m    324\u001b[0m     \u001b[0;34m@\u001b[0m\u001b[0m_cast_other\u001b[0m\u001b[0;34m\u001b[0m\u001b[0m\n",
      "\u001b[0;31mDCPError\u001b[0m: Can only divide by a scalar constant."
     ]
    }
   ],
   "source": [
    "out, val = solve_iter(zp, DP)"
   ]
  },
  {
   "cell_type": "code",
   "execution_count": 149,
   "metadata": {
    "collapsed": false
   },
   "outputs": [
    {
     "data": {
      "text/plain": [
       "numpy.ndarray"
      ]
     },
     "execution_count": 149,
     "metadata": {},
     "output_type": "execute_result"
    }
   ],
   "source": [
    "type(zp)"
   ]
  },
  {
   "cell_type": "code",
   "execution_count": 153,
   "metadata": {
    "collapsed": true
   },
   "outputs": [],
   "source": [
    "tz = cvx.Variable(DP.p)"
   ]
  },
  {
   "cell_type": "code",
   "execution_count": 159,
   "metadata": {
    "collapsed": false
   },
   "outputs": [
    {
     "data": {
      "text/plain": [
       "(3, 1)"
      ]
     },
     "execution_count": 159,
     "metadata": {},
     "output_type": "execute_result"
    }
   ],
   "source": [
    "tz.size"
   ]
  },
  {
   "cell_type": "code",
   "execution_count": 166,
   "metadata": {
    "collapsed": false
   },
   "outputs": [
    {
     "data": {
      "text/plain": [
       "(3, 1)"
      ]
     },
     "execution_count": 166,
     "metadata": {},
     "output_type": "execute_result"
    }
   ],
   "source": [
    "tz.size"
   ]
  },
  {
   "cell_type": "code",
   "execution_count": null,
   "metadata": {
    "collapsed": true
   },
   "outputs": [],
   "source": []
  }
 ],
 "metadata": {
  "kernelspec": {
   "display_name": "Python 2",
   "language": "python",
   "name": "python2"
  },
  "language_info": {
   "codemirror_mode": {
    "name": "ipython",
    "version": 2
   },
   "file_extension": ".py",
   "mimetype": "text/x-python",
   "name": "python",
   "nbconvert_exporter": "python",
   "pygments_lexer": "ipython2",
   "version": "2.7.12"
  }
 },
 "nbformat": 4,
 "nbformat_minor": 1
}
