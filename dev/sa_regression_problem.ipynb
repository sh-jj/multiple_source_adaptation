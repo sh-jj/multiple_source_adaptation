{
 "cells": [
  {
   "cell_type": "code",
   "execution_count": 1,
   "metadata": {
    "collapsed": false
   },
   "outputs": [],
   "source": [
    "%matplotlib inline\n",
    "import numpy as np\n",
    "import sys\n",
    "import scipy\n",
    "sys.path.append('../datasets')\n",
    "sys.path.append('../optimization')\n",
    "sys.path.append('../util')\n",
    "from eval import compute_weighted_loss, compute_loss_k"
   ]
  },
  {
   "cell_type": "code",
   "execution_count": 2,
   "metadata": {
    "collapsed": false
   },
   "outputs": [],
   "source": [
    "from sentiment_analysis import sentiment_analysis_data, sm_problem\n",
    "datadir = '/data/sentiment_analysis/domain_adaptation/'"
   ]
  },
  {
   "cell_type": "code",
   "execution_count": 3,
   "metadata": {
    "collapsed": false
   },
   "outputs": [],
   "source": [
    "from scipy.optimize import minimize, fmin_slsqp\n",
    "from compute_quantities import compute_u, compute_v, compute_grad_v\n",
    "\n",
    "def equality_constraint(x):\n",
    "    z = x[:-1]\n",
    "    return sum(z) - 1\n",
    "\n",
    "def bnd(p):\n",
    "    b = []\n",
    "    for k in range(p):\n",
    "        b.append((0,1))\n",
    "    b.append((-np.inf, np.inf)) # no bound on gamma\n",
    "    return b\n",
    "\n",
    "def u_minus_v(z0, DP):\n",
    "    u = compute_u(z0, DP)\n",
    "    v = compute_v(z0, DP)\n",
    "    return u-v\n",
    "\n",
    "def main_constraint(x, x0, DP):\n",
    "    gamma = x[-1]\n",
    "    z = np.squeeze(np.array(x[:-1]))\n",
    "    z0 = np.squeeze(np.array(x0[:-1]))\n",
    "    u_z = compute_u(z, DP)\n",
    "    v_z0 = compute_v(z0, DP)\n",
    "    gv_z0 = compute_grad_v(z0, DP)\n",
    "    return gamma - (u_z - v_z0 - np.squeeze(np.array((z-z0)*gv_z0)))\n",
    "\n",
    "def main_constraint_per_k(x, x0, DP, k):\n",
    "    gamma = x[-1]\n",
    "    z = np.squeeze(np.array(x[:-1]))\n",
    "    z0 = np.squeeze(np.array(x0[:-1]))\n",
    "    u_z = compute_u(z, DP)\n",
    "    v_z0 = compute_v(z0, DP)\n",
    "    gv_z0 = compute_grad_v(z0, DP)\n",
    "    return gamma - (u_z[k] - v_z0[k] - np.array((z-z0)*gv_z0)[k])\n",
    "\n",
    "\n",
    "def solve_iter(xp, DP):\n",
    "    #xx = np.hstack([zp, 0]) #g0 = 0\n",
    "    fun = lambda x: x[-1] # bottom variable is gamma\n",
    "    #nonneg_cst = dict(type='ineq', fun=non_negative_constraint)\n",
    "    eq_cst = dict(type='eq', fun=equality_constraint)\n",
    "    main_cst = dict(type='ineq', fun=main_constraint, args=(xp, DP))\n",
    "    cons = [eq_cst]\n",
    "    for k in range(DP.p):\n",
    "        cons.append(dict(type='ineq', fun=main_constraint_per_k, args=(xp, DP, k)))\n",
    "    cons = (eq_cst, main_cst)\n",
    "\n",
    "    opt = dict(maxiter=1e8, disp=True, eps=1e-5, ftol=1e-10)\n",
    "\n",
    "    res = minimize(fun, xp, method='SLSQP', constraints=cons, \n",
    "                   bounds=bnd(DP.p), options=opt, tol=1e-9)\n",
    "    print res.message\n",
    "    return res.x[:-1], res.x[-1], res\n",
    "\n",
    "\n",
    "def solve_iter2(xp, DP):\n",
    "#    x0 = np.hstack([zp,0])\n",
    "    fun = lambda x: x[-1] # bottom variable is gamma\n",
    "    \n",
    "    res = fmin_slsqp(fun, xp, eqcons=equality_constraint, \n",
    "                     f_ieqcons=main_constraint, \n",
    "                     bounds=bnd(DP.p), iter=1e8, disp=1, args=(xp, DP))\n",
    "    print res.message\n",
    "    return res.x[:-1], res.x[-1], res"
   ]
  },
  {
   "cell_type": "code",
   "execution_count": 4,
   "metadata": {
    "collapsed": false
   },
   "outputs": [
    {
     "ename": "KeyboardInterrupt",
     "evalue": "",
     "output_type": "error",
     "traceback": [
      "\u001b[0;31m---------------------------------------------------------------------------\u001b[0m",
      "\u001b[0;31mKeyboardInterrupt\u001b[0m                         Traceback (most recent call last)",
      "\u001b[0;32m<ipython-input-4-1508bc32b778>\u001b[0m in \u001b[0;36m<module>\u001b[0;34m()\u001b[0m\n\u001b[1;32m     15\u001b[0m \u001b[0mtol\u001b[0m \u001b[0;34m=\u001b[0m \u001b[0;36m1e-10\u001b[0m\u001b[0;34m\u001b[0m\u001b[0m\n\u001b[1;32m     16\u001b[0m \u001b[0;32mfor\u001b[0m \u001b[0mi\u001b[0m \u001b[0;32min\u001b[0m \u001b[0mrange\u001b[0m\u001b[0;34m(\u001b[0m\u001b[0mmax_iter\u001b[0m\u001b[0;34m)\u001b[0m\u001b[0;34m:\u001b[0m\u001b[0;34m\u001b[0m\u001b[0m\n\u001b[0;32m---> 17\u001b[0;31m     \u001b[0mz\u001b[0m\u001b[0;34m,\u001b[0m\u001b[0mgamma\u001b[0m\u001b[0;34m,\u001b[0m\u001b[0mres\u001b[0m \u001b[0;34m=\u001b[0m \u001b[0msolve_iter\u001b[0m\u001b[0;34m(\u001b[0m\u001b[0mxp\u001b[0m\u001b[0;34m,\u001b[0m \u001b[0mDP\u001b[0m\u001b[0;34m)\u001b[0m\u001b[0;34m\u001b[0m\u001b[0m\n\u001b[0m\u001b[1;32m     18\u001b[0m     \u001b[0;32mprint\u001b[0m \u001b[0;34m'iter {:d}: z='\u001b[0m\u001b[0;34m.\u001b[0m\u001b[0mformat\u001b[0m\u001b[0;34m(\u001b[0m\u001b[0mi\u001b[0m\u001b[0;34m)\u001b[0m\u001b[0;34m,\u001b[0m \u001b[0mz\u001b[0m\u001b[0;34m\u001b[0m\u001b[0m\n\u001b[1;32m     19\u001b[0m     \u001b[0;32mif\u001b[0m \u001b[0mnp\u001b[0m\u001b[0;34m.\u001b[0m\u001b[0mabs\u001b[0m\u001b[0;34m(\u001b[0m\u001b[0mxp\u001b[0m\u001b[0;34m[\u001b[0m\u001b[0;34m-\u001b[0m\u001b[0;36m1\u001b[0m\u001b[0;34m]\u001b[0m \u001b[0;34m-\u001b[0m \u001b[0mgamma\u001b[0m\u001b[0;34m)\u001b[0m \u001b[0;34m<\u001b[0m \u001b[0mtol\u001b[0m\u001b[0;34m:\u001b[0m\u001b[0;34m\u001b[0m\u001b[0m\n",
      "\u001b[0;32m<ipython-input-3-f9cd05158874>\u001b[0m in \u001b[0;36msolve_iter\u001b[0;34m(xp, DP)\u001b[0m\n\u001b[1;32m     51\u001b[0m \u001b[0;34m\u001b[0m\u001b[0m\n\u001b[1;32m     52\u001b[0m     res = minimize(fun, xp, method='SLSQP', constraints=cons, \n\u001b[0;32m---> 53\u001b[0;31m                    bounds=bnd(DP.p), options=opt, tol=1e-9)\n\u001b[0m\u001b[1;32m     54\u001b[0m     \u001b[0;32mprint\u001b[0m \u001b[0mres\u001b[0m\u001b[0;34m.\u001b[0m\u001b[0mmessage\u001b[0m\u001b[0;34m\u001b[0m\u001b[0m\n\u001b[1;32m     55\u001b[0m     \u001b[0;32mreturn\u001b[0m \u001b[0mres\u001b[0m\u001b[0;34m.\u001b[0m\u001b[0mx\u001b[0m\u001b[0;34m[\u001b[0m\u001b[0;34m:\u001b[0m\u001b[0;34m-\u001b[0m\u001b[0;36m1\u001b[0m\u001b[0;34m]\u001b[0m\u001b[0;34m,\u001b[0m \u001b[0mres\u001b[0m\u001b[0;34m.\u001b[0m\u001b[0mx\u001b[0m\u001b[0;34m[\u001b[0m\u001b[0;34m-\u001b[0m\u001b[0;36m1\u001b[0m\u001b[0;34m]\u001b[0m\u001b[0;34m,\u001b[0m \u001b[0mres\u001b[0m\u001b[0;34m\u001b[0m\u001b[0m\n",
      "\u001b[0;32m/home/jhoffman/pyvirt/local/lib/python2.7/site-packages/scipy/optimize/_minimize.pyc\u001b[0m in \u001b[0;36mminimize\u001b[0;34m(fun, x0, args, method, jac, hess, hessp, bounds, constraints, tol, callback, options)\u001b[0m\n\u001b[1;32m    456\u001b[0m     \u001b[0;32melif\u001b[0m \u001b[0mmeth\u001b[0m \u001b[0;34m==\u001b[0m \u001b[0;34m'slsqp'\u001b[0m\u001b[0;34m:\u001b[0m\u001b[0;34m\u001b[0m\u001b[0m\n\u001b[1;32m    457\u001b[0m         return _minimize_slsqp(fun, x0, args, jac, bounds,\n\u001b[0;32m--> 458\u001b[0;31m                                constraints, callback=callback, **options)\n\u001b[0m\u001b[1;32m    459\u001b[0m     \u001b[0;32melif\u001b[0m \u001b[0mmeth\u001b[0m \u001b[0;34m==\u001b[0m \u001b[0;34m'dogleg'\u001b[0m\u001b[0;34m:\u001b[0m\u001b[0;34m\u001b[0m\u001b[0m\n\u001b[1;32m    460\u001b[0m         return _minimize_dogleg(fun, x0, args, jac, hess,\n",
      "\u001b[0;32m/home/jhoffman/pyvirt/local/lib/python2.7/site-packages/scipy/optimize/slsqp.pyc\u001b[0m in \u001b[0;36m_minimize_slsqp\u001b[0;34m(func, x0, args, jac, bounds, constraints, maxiter, ftol, iprint, disp, eps, callback, **unknown_options)\u001b[0m\n\u001b[1;32m    396\u001b[0m             \u001b[0;32mif\u001b[0m \u001b[0mcons\u001b[0m\u001b[0;34m[\u001b[0m\u001b[0;34m'ineq'\u001b[0m\u001b[0;34m]\u001b[0m\u001b[0;34m:\u001b[0m\u001b[0;34m\u001b[0m\u001b[0m\n\u001b[1;32m    397\u001b[0m                 a_ieq = vstack([con['jac'](x, *con['args'])\n\u001b[0;32m--> 398\u001b[0;31m                                 for con in cons['ineq']])\n\u001b[0m\u001b[1;32m    399\u001b[0m             \u001b[0;32melse\u001b[0m\u001b[0;34m:\u001b[0m  \u001b[0;31m# no inequality constraint\u001b[0m\u001b[0;34m\u001b[0m\u001b[0m\n\u001b[1;32m    400\u001b[0m                 \u001b[0ma_ieq\u001b[0m \u001b[0;34m=\u001b[0m \u001b[0mzeros\u001b[0m\u001b[0;34m(\u001b[0m\u001b[0;34m(\u001b[0m\u001b[0mmieq\u001b[0m\u001b[0;34m,\u001b[0m \u001b[0mn\u001b[0m\u001b[0;34m)\u001b[0m\u001b[0;34m)\u001b[0m\u001b[0;34m\u001b[0m\u001b[0m\n",
      "\u001b[0;32m/home/jhoffman/pyvirt/local/lib/python2.7/site-packages/scipy/optimize/slsqp.pyc\u001b[0m in \u001b[0;36mcjac\u001b[0;34m(x, *args)\u001b[0m\n\u001b[1;32m    274\u001b[0m             \u001b[0;32mdef\u001b[0m \u001b[0mcjac_factory\u001b[0m\u001b[0;34m(\u001b[0m\u001b[0mfun\u001b[0m\u001b[0;34m)\u001b[0m\u001b[0;34m:\u001b[0m\u001b[0;34m\u001b[0m\u001b[0m\n\u001b[1;32m    275\u001b[0m                 \u001b[0;32mdef\u001b[0m \u001b[0mcjac\u001b[0m\u001b[0;34m(\u001b[0m\u001b[0mx\u001b[0m\u001b[0;34m,\u001b[0m \u001b[0;34m*\u001b[0m\u001b[0margs\u001b[0m\u001b[0;34m)\u001b[0m\u001b[0;34m:\u001b[0m\u001b[0;34m\u001b[0m\u001b[0m\n\u001b[0;32m--> 276\u001b[0;31m                     \u001b[0;32mreturn\u001b[0m \u001b[0mapprox_jacobian\u001b[0m\u001b[0;34m(\u001b[0m\u001b[0mx\u001b[0m\u001b[0;34m,\u001b[0m \u001b[0mfun\u001b[0m\u001b[0;34m,\u001b[0m \u001b[0mepsilon\u001b[0m\u001b[0;34m,\u001b[0m \u001b[0;34m*\u001b[0m\u001b[0margs\u001b[0m\u001b[0;34m)\u001b[0m\u001b[0;34m\u001b[0m\u001b[0m\n\u001b[0m\u001b[1;32m    277\u001b[0m                 \u001b[0;32mreturn\u001b[0m \u001b[0mcjac\u001b[0m\u001b[0;34m\u001b[0m\u001b[0m\n\u001b[1;32m    278\u001b[0m             \u001b[0mcjac\u001b[0m \u001b[0;34m=\u001b[0m \u001b[0mcjac_factory\u001b[0m\u001b[0;34m(\u001b[0m\u001b[0mcon\u001b[0m\u001b[0;34m[\u001b[0m\u001b[0;34m'fun'\u001b[0m\u001b[0;34m]\u001b[0m\u001b[0;34m)\u001b[0m\u001b[0;34m\u001b[0m\u001b[0m\n",
      "\u001b[0;32m/home/jhoffman/pyvirt/local/lib/python2.7/site-packages/scipy/optimize/slsqp.pyc\u001b[0m in \u001b[0;36mapprox_jacobian\u001b[0;34m(x, func, epsilon, *args)\u001b[0m\n\u001b[1;32m     56\u001b[0m     \"\"\"\n\u001b[1;32m     57\u001b[0m     \u001b[0mx0\u001b[0m \u001b[0;34m=\u001b[0m \u001b[0masfarray\u001b[0m\u001b[0;34m(\u001b[0m\u001b[0mx\u001b[0m\u001b[0;34m)\u001b[0m\u001b[0;34m\u001b[0m\u001b[0m\n\u001b[0;32m---> 58\u001b[0;31m     \u001b[0mf0\u001b[0m \u001b[0;34m=\u001b[0m \u001b[0matleast_1d\u001b[0m\u001b[0;34m(\u001b[0m\u001b[0mfunc\u001b[0m\u001b[0;34m(\u001b[0m\u001b[0;34m*\u001b[0m\u001b[0;34m(\u001b[0m\u001b[0;34m(\u001b[0m\u001b[0mx0\u001b[0m\u001b[0;34m,\u001b[0m\u001b[0;34m)\u001b[0m\u001b[0;34m+\u001b[0m\u001b[0margs\u001b[0m\u001b[0;34m)\u001b[0m\u001b[0;34m)\u001b[0m\u001b[0;34m)\u001b[0m\u001b[0;34m\u001b[0m\u001b[0m\n\u001b[0m\u001b[1;32m     59\u001b[0m     \u001b[0mjac\u001b[0m \u001b[0;34m=\u001b[0m \u001b[0mzeros\u001b[0m\u001b[0;34m(\u001b[0m\u001b[0;34m[\u001b[0m\u001b[0mlen\u001b[0m\u001b[0;34m(\u001b[0m\u001b[0mx0\u001b[0m\u001b[0;34m)\u001b[0m\u001b[0;34m,\u001b[0m\u001b[0mlen\u001b[0m\u001b[0;34m(\u001b[0m\u001b[0mf0\u001b[0m\u001b[0;34m)\u001b[0m\u001b[0;34m]\u001b[0m\u001b[0;34m)\u001b[0m\u001b[0;34m\u001b[0m\u001b[0m\n\u001b[1;32m     60\u001b[0m     \u001b[0mdx\u001b[0m \u001b[0;34m=\u001b[0m \u001b[0mzeros\u001b[0m\u001b[0;34m(\u001b[0m\u001b[0mlen\u001b[0m\u001b[0;34m(\u001b[0m\u001b[0mx0\u001b[0m\u001b[0;34m)\u001b[0m\u001b[0;34m)\u001b[0m\u001b[0;34m\u001b[0m\u001b[0m\n",
      "\u001b[0;32m<ipython-input-3-f9cd05158874>\u001b[0m in \u001b[0;36mmain_constraint\u001b[0;34m(x, x0, DP)\u001b[0m\n\u001b[1;32m     23\u001b[0m     \u001b[0mz0\u001b[0m \u001b[0;34m=\u001b[0m \u001b[0mnp\u001b[0m\u001b[0;34m.\u001b[0m\u001b[0msqueeze\u001b[0m\u001b[0;34m(\u001b[0m\u001b[0mnp\u001b[0m\u001b[0;34m.\u001b[0m\u001b[0marray\u001b[0m\u001b[0;34m(\u001b[0m\u001b[0mx0\u001b[0m\u001b[0;34m[\u001b[0m\u001b[0;34m:\u001b[0m\u001b[0;34m-\u001b[0m\u001b[0;36m1\u001b[0m\u001b[0;34m]\u001b[0m\u001b[0;34m)\u001b[0m\u001b[0;34m)\u001b[0m\u001b[0;34m\u001b[0m\u001b[0m\n\u001b[1;32m     24\u001b[0m     \u001b[0mu_z\u001b[0m \u001b[0;34m=\u001b[0m \u001b[0mcompute_u\u001b[0m\u001b[0;34m(\u001b[0m\u001b[0mz\u001b[0m\u001b[0;34m,\u001b[0m \u001b[0mDP\u001b[0m\u001b[0;34m)\u001b[0m\u001b[0;34m\u001b[0m\u001b[0m\n\u001b[0;32m---> 25\u001b[0;31m     \u001b[0mv_z0\u001b[0m \u001b[0;34m=\u001b[0m \u001b[0mcompute_v\u001b[0m\u001b[0;34m(\u001b[0m\u001b[0mz0\u001b[0m\u001b[0;34m,\u001b[0m \u001b[0mDP\u001b[0m\u001b[0;34m)\u001b[0m\u001b[0;34m\u001b[0m\u001b[0m\n\u001b[0m\u001b[1;32m     26\u001b[0m     \u001b[0mgv_z0\u001b[0m \u001b[0;34m=\u001b[0m \u001b[0mcompute_grad_v\u001b[0m\u001b[0;34m(\u001b[0m\u001b[0mz0\u001b[0m\u001b[0;34m,\u001b[0m \u001b[0mDP\u001b[0m\u001b[0;34m)\u001b[0m\u001b[0;34m\u001b[0m\u001b[0m\n\u001b[1;32m     27\u001b[0m     \u001b[0;32mreturn\u001b[0m \u001b[0mgamma\u001b[0m \u001b[0;34m-\u001b[0m \u001b[0;34m(\u001b[0m\u001b[0mu_z\u001b[0m \u001b[0;34m-\u001b[0m \u001b[0mv_z0\u001b[0m \u001b[0;34m-\u001b[0m \u001b[0mnp\u001b[0m\u001b[0;34m.\u001b[0m\u001b[0msqueeze\u001b[0m\u001b[0;34m(\u001b[0m\u001b[0mnp\u001b[0m\u001b[0;34m.\u001b[0m\u001b[0marray\u001b[0m\u001b[0;34m(\u001b[0m\u001b[0;34m(\u001b[0m\u001b[0mz\u001b[0m\u001b[0;34m-\u001b[0m\u001b[0mz0\u001b[0m\u001b[0;34m)\u001b[0m\u001b[0;34m*\u001b[0m\u001b[0mgv_z0\u001b[0m\u001b[0;34m)\u001b[0m\u001b[0;34m)\u001b[0m\u001b[0;34m)\u001b[0m\u001b[0;34m\u001b[0m\u001b[0m\n",
      "\u001b[0;32m/home/jhoffman/code/domain_generalization/optimization/compute_quantities.pyc\u001b[0m in \u001b[0;36mcompute_v\u001b[0;34m(z, DP)\u001b[0m\n\u001b[1;32m    150\u001b[0m         \u001b[0mGz\u001b[0m \u001b[0;34m=\u001b[0m \u001b[0mcompute_Gz\u001b[0m\u001b[0;34m(\u001b[0m\u001b[0mx\u001b[0m\u001b[0;34m,\u001b[0m \u001b[0mz\u001b[0m\u001b[0;34m,\u001b[0m \u001b[0mDP\u001b[0m\u001b[0;34m)\u001b[0m\u001b[0;34m\u001b[0m\u001b[0m\n\u001b[1;32m    151\u001b[0m         \u001b[0mfz\u001b[0m \u001b[0;34m=\u001b[0m \u001b[0mcompute_fz\u001b[0m\u001b[0;34m(\u001b[0m\u001b[0mx\u001b[0m\u001b[0;34m,\u001b[0m \u001b[0mz\u001b[0m\u001b[0;34m,\u001b[0m \u001b[0mDP\u001b[0m\u001b[0;34m)\u001b[0m\u001b[0;34m\u001b[0m\u001b[0m\n\u001b[0;32m--> 152\u001b[0;31m         \u001b[0mJz\u001b[0m \u001b[0;34m=\u001b[0m \u001b[0mcompute_Jz\u001b[0m\u001b[0;34m(\u001b[0m\u001b[0mx\u001b[0m\u001b[0;34m,\u001b[0m \u001b[0mz\u001b[0m\u001b[0;34m,\u001b[0m \u001b[0mDP\u001b[0m\u001b[0;34m)\u001b[0m\u001b[0;34m\u001b[0m\u001b[0m\n\u001b[0m\u001b[1;32m    153\u001b[0m         \u001b[0mhz\u001b[0m \u001b[0;34m=\u001b[0m \u001b[0mcompute_hz\u001b[0m\u001b[0;34m(\u001b[0m\u001b[0mx\u001b[0m\u001b[0;34m,\u001b[0m \u001b[0mz\u001b[0m\u001b[0;34m,\u001b[0m \u001b[0mDP\u001b[0m\u001b[0;34m,\u001b[0m \u001b[0mJz\u001b[0m\u001b[0;34m=\u001b[0m\u001b[0mJz\u001b[0m\u001b[0;34m)\u001b[0m\u001b[0;34m\u001b[0m\u001b[0m\n\u001b[1;32m    154\u001b[0m \u001b[0;34m\u001b[0m\u001b[0m\n",
      "\u001b[0;32m/home/jhoffman/code/domain_generalization/optimization/compute_quantities.pyc\u001b[0m in \u001b[0;36mcompute_Jz\u001b[0;34m(x, z, DP)\u001b[0m\n\u001b[1;32m     13\u001b[0m \u001b[0;34m\u001b[0m\u001b[0m\n\u001b[1;32m     14\u001b[0m \u001b[0;32mdef\u001b[0m \u001b[0mcompute_Jz\u001b[0m\u001b[0;34m(\u001b[0m\u001b[0mx\u001b[0m\u001b[0;34m,\u001b[0m \u001b[0mz\u001b[0m\u001b[0;34m,\u001b[0m \u001b[0mDP\u001b[0m\u001b[0;34m)\u001b[0m\u001b[0;34m:\u001b[0m\u001b[0;34m\u001b[0m\u001b[0m\n\u001b[0;32m---> 15\u001b[0;31m     \u001b[0mconst\u001b[0m \u001b[0;34m=\u001b[0m \u001b[0mDP\u001b[0m\u001b[0;34m.\u001b[0m\u001b[0meta\u001b[0m \u001b[0;34m*\u001b[0m \u001b[0mDP\u001b[0m\u001b[0;34m.\u001b[0m\u001b[0mU\u001b[0m \u001b[0;34m*\u001b[0m \u001b[0mcompute_H\u001b[0m\u001b[0;34m(\u001b[0m\u001b[0mx\u001b[0m\u001b[0;34m,\u001b[0m \u001b[0mDP\u001b[0m\u001b[0;34m)\u001b[0m\u001b[0;34m\u001b[0m\u001b[0m\n\u001b[0m\u001b[1;32m     16\u001b[0m     \u001b[0mD\u001b[0m \u001b[0;34m=\u001b[0m \u001b[0mDP\u001b[0m\u001b[0;34m.\u001b[0m\u001b[0mget_marginal_density\u001b[0m\u001b[0;34m(\u001b[0m\u001b[0;34m)\u001b[0m\u001b[0;34m[\u001b[0m\u001b[0mx\u001b[0m\u001b[0;34m,\u001b[0m\u001b[0;34m:\u001b[0m\u001b[0;34m]\u001b[0m\u001b[0;34m\u001b[0m\u001b[0m\n\u001b[1;32m     17\u001b[0m     \u001b[0mh\u001b[0m \u001b[0;34m=\u001b[0m \u001b[0mDP\u001b[0m\u001b[0;34m.\u001b[0m\u001b[0mget_regressor\u001b[0m\u001b[0;34m(\u001b[0m\u001b[0;34m)\u001b[0m\u001b[0;34m[\u001b[0m\u001b[0mx\u001b[0m\u001b[0;34m,\u001b[0m\u001b[0;34m:\u001b[0m\u001b[0;34m]\u001b[0m\u001b[0;34m\u001b[0m\u001b[0m\n",
      "\u001b[0;31mKeyboardInterrupt\u001b[0m: "
     ]
    }
   ],
   "source": [
    "from scipy.optimize import minimize\n",
    "from compute_quantities import compute_u, compute_v, compute_grad_v\n",
    "# solve an iteration\n",
    "\n",
    "#setup constraints: function of [z,gamma]\n",
    "DP = sm_problem(datadir=datadir, minO=2, ngram=1, \n",
    "                split=1, sources=('kitchen', 'dvd', 'books', 'electronics'))\n",
    "z0 = np.repeat(1.0 / DP.p, DP.p)\n",
    "uMv = u_minus_v(z0, DP)\n",
    "g0 = .9 * max(uMv)\n",
    "x0 = np.hstack([z0, g0])\n",
    "\n",
    "max_iter = 5\n",
    "xp = x0\n",
    "tol = 1e-10\n",
    "for i in range(max_iter):\n",
    "    z,gamma,res = solve_iter(xp, DP)\n",
    "    print 'iter {:d}: z='.format(i), z\n",
    "    if np.abs(xp[-1] - gamma) < tol:\n",
    "        print 'absolute change in gamma', xp[-1] - gamma\n",
    "        break\n",
    "    xp = np.hstack([z, gamma])"
   ]
  },
  {
   "cell_type": "code",
   "execution_count": 9,
   "metadata": {
    "collapsed": false
   },
   "outputs": [
    {
     "name": "stdout",
     "output_type": "stream",
     "text": [
      "-153158463816.0\n",
      "loss h0: 1.6981646538\n",
      "loss h1: 1.73481475892\n",
      "loss h2: 1.70231450794\n",
      "loss h3: 1.70878277798\n",
      "loss hz: 1.32289565446\n",
      "loss hz0: 1.32289684449\n"
     ]
    }
   ],
   "source": [
    "print gamma\n",
    "for k in range(DP.p):\n",
    "    print 'loss h{:d}:'.format(k), compute_loss_k(k,DP)\n",
    "print 'loss hz:', compute_weighted_loss(z,DP)\n",
    "print 'loss hz0:', compute_weighted_loss(z0,DP)"
   ]
  },
  {
   "cell_type": "code",
   "execution_count": 10,
   "metadata": {
    "collapsed": false
   },
   "outputs": [
    {
     "name": "stdout",
     "output_type": "stream",
     "text": [
      "[  3.05910117e-01   3.97589080e-01   4.08099155e-11   2.96500803e-01] [ 0.25  0.25  0.25  0.25] [ 0.33855899  0.21046516  0.02086271  0.43011314]\n",
      "loss h0: 1.94799571801\n",
      "loss h1: 2.06471670303\n",
      "loss h2: 2.04823838554\n",
      "loss h3: 1.97375490063\n",
      "loss hz: 1.68345275534\n",
      "loss hz0: 1.68357482091\n",
      "loss h_rand 1.68346421243\n"
     ]
    }
   ],
   "source": [
    "z_rand = np.random.rand(DP.p)\n",
    "z_rand /= z_rand.sum()\n",
    "print z, z0, z_rand\n",
    "DP_te = sm_problem(datadir=datadir, minO=2, ngram=1, \n",
    "                split=1, sources=('kitchen', 'dvd', 'books', 'electronics'),\n",
    "                  dset='test')\n",
    "for k in range(DP_te.p):\n",
    "    print 'loss h{:d}:'.format(k), compute_loss_k(k,DP_te)\n",
    "print 'loss hz:', compute_weighted_loss(z,DP_te)\n",
    "print 'loss hz0:', compute_weighted_loss(z0,DP_te)\n",
    "print 'loss h_rand', compute_weighted_loss(z_rand, DP_te)"
   ]
  },
  {
   "cell_type": "code",
   "execution_count": 11,
   "metadata": {
    "collapsed": false
   },
   "outputs": [
    {
     "name": "stdout",
     "output_type": "stream",
     "text": [
      "Only first domain\n",
      "loss h0: 1.53575310417\n",
      "loss h1: 2.04999589721\n",
      "loss h2: 2.19617439067\n",
      "loss h3: 1.74123563771\n",
      "loss hz: 1.54131653844\n",
      "loss hz0: 1.54131653844\n"
     ]
    }
   ],
   "source": [
    "print 'Only first domain'\n",
    "ind = range(0,400)\n",
    "for k in range(DP_te.p):\n",
    "    print 'loss h{:d}:'.format(k), compute_loss_k(k,DP_te, ind=ind)\n",
    "print 'loss hz:', compute_weighted_loss(z,DP_te,ind=ind)\n",
    "print 'loss hz0:', compute_weighted_loss(z0,DP_te, ind=ind)"
   ]
  },
  {
   "cell_type": "code",
   "execution_count": 12,
   "metadata": {
    "collapsed": false
   },
   "outputs": [
    {
     "name": "stdout",
     "output_type": "stream",
     "text": [
      "Only second domain\n",
      "loss h0: 2.26082933871\n",
      "loss h1: 1.84708271182\n",
      "loss h2: 2.11344494225\n",
      "loss h3: 2.29882720035\n",
      "loss hz: 1.8264106291\n",
      "loss hz0: 1.82641039951\n"
     ]
    }
   ],
   "source": [
    "print 'Only second domain'\n",
    "ind = range(400,800)\n",
    "for k in range(DP_te.p):\n",
    "    print 'loss h{:d}:'.format(k), compute_loss_k(k,DP_te, ind=ind)\n",
    "print 'loss hz:', compute_weighted_loss(z,DP_te,ind=ind)\n",
    "print 'loss hz0:', compute_weighted_loss(z0,DP_te, ind=ind)"
   ]
  },
  {
   "cell_type": "code",
   "execution_count": 13,
   "metadata": {
    "collapsed": false
   },
   "outputs": [
    {
     "name": "stdout",
     "output_type": "stream",
     "text": [
      "Only third domain\n",
      "loss h0: 2.37615242972\n",
      "loss h1: 2.14577429344\n",
      "loss h2: 1.66821615181\n",
      "loss h3: 2.31273246216\n",
      "loss hz: 1.80578447895\n",
      "loss hz0: 1.80578447908\n"
     ]
    }
   ],
   "source": [
    "print 'Only third domain'\n",
    "ind = range(800,1200)\n",
    "for k in range(DP_te.p):\n",
    "    print 'loss h{:d}:'.format(k), compute_loss_k(k,DP_te, ind=ind)\n",
    "print 'loss hz:', compute_weighted_loss(z,DP_te,ind=ind)\n",
    "print 'loss hz0:', compute_weighted_loss(z0,DP_te, ind=ind)"
   ]
  },
  {
   "cell_type": "code",
   "execution_count": 14,
   "metadata": {
    "collapsed": false
   },
   "outputs": [
    {
     "name": "stdout",
     "output_type": "stream",
     "text": [
      "Only fourth domain\n",
      "loss h0: 1.61924799942\n",
      "loss h1: 2.21601390964\n",
      "loss h2: 2.21511805745\n",
      "loss h3: 1.5422243023\n",
      "loss hz: 1.56029937487\n",
      "loss hz0: 1.56078786663\n"
     ]
    }
   ],
   "source": [
    "print 'Only fourth domain'\n",
    "ind = range(1200,1600)\n",
    "for k in range(DP_te.p):\n",
    "    print 'loss h{:d}:'.format(k), compute_loss_k(k,DP_te, ind=ind)\n",
    "print 'loss hz:', compute_weighted_loss(z,DP_te,ind=ind)\n",
    "print 'loss hz0:', compute_weighted_loss(z0,DP_te, ind=ind)"
   ]
  },
  {
   "cell_type": "code",
   "execution_count": 13,
   "metadata": {
    "collapsed": false
   },
   "outputs": [
    {
     "data": {
      "text/plain": [
       "array([ -3.84172513e+13,  -2.83707886e+13,  -2.83707887e+13,\n",
       "        -2.87975448e+13])"
      ]
     },
     "execution_count": 13,
     "metadata": {},
     "output_type": "execute_result"
    }
   ],
   "source": [
    "main_constraint(xp, x0, DP)"
   ]
  },
  {
   "cell_type": "code",
   "execution_count": 5,
   "metadata": {
    "collapsed": false
   },
   "outputs": [
    {
     "name": "stdout",
     "output_type": "stream",
     "text": [
      "[[ 1.58212   1.90002   1.17901   2.11121 ]\n",
      " [ 1.95944   2.44088   2.52948   2.60322 ]\n",
      " [ 3.89996   4.23462   4.05027   3.84343 ]\n",
      " [ 3.89967   2.88608   2.79319   3.23924 ]\n",
      " [ 0.899612  0.667825  1.08855   1.30963 ]\n",
      " [ 1.09973   2.42364   2.66191   2.47316 ]\n",
      " [ 1.89995   0.504526  2.54948   2.56935 ]\n",
      " [ 3.63227   2.37233   2.79476   2.91536 ]\n",
      " [ 3.89998   3.2775    3.58363   4.42958 ]\n",
      " [ 2.03095   2.38629   2.28641   0.811107]]\n",
      "[ 1.  1.  4.  4.  1.  1.  2.  5.  4.  2.]\n",
      "[  3.38863694e-01   9.20525114e-01   1.00080016e-02   1.00661089e-02\n",
      "   1.00777505e-02   9.94607290e-03   1.00100025e-02   1.87068535e+00\n",
      "   1.00040004e-02   9.57902500e-04]\n",
      "[ 0.810036    2.07613517  0.05504654  1.24081777  0.11034023  2.02675085\n",
      "  2.23644248  6.90464963  0.52200625  0.14921996]\n"
     ]
    }
   ],
   "source": [
    "h = DP.get_regressor()\n",
    "y = DP.get_true_values()\n",
    "print h[:10,:]\n",
    "print y[:10]\n",
    "print (h[:10,0] - y[:10])**2\n",
    "print (h[:10,1] - y[:10])**2"
   ]
  },
  {
   "cell_type": "code",
   "execution_count": 6,
   "metadata": {
    "collapsed": true
   },
   "outputs": [],
   "source": [
    "import compute_quantities as CQ"
   ]
  },
  {
   "cell_type": "code",
   "execution_count": 7,
   "metadata": {
    "collapsed": false
   },
   "outputs": [
    {
     "name": "stdout",
     "output_type": "stream",
     "text": [
      "1.20216792196e-16 4.06236428775e-13 1.56370216792e-13 2.59791434142 3.1975398529e+12 3.1975398529e+12 4.08970444436e+25 4.08970444436e+25 [  3.65122047e-16   3.32392589e-17   1.02270040e-17   7.22788586e-17]\n"
     ]
    }
   ],
   "source": [
    "z = .25 * np.ones(4)\n",
    "i = 5079\n",
    "D = DP.get_marginal_density()\n",
    "y = DP.get_true_values()\n",
    "Di = D[i,:]\n",
    "Dz = CQ.compute_Dz(i, z, DP)\n",
    "Jz = CQ.compute_Jz(i, z, DP)\n",
    "Kz = CQ.compute_Kz(i, z, DP)\n",
    "gz = CQ.compute_gz(i, z, DP)\n",
    "fz = CQ.compute_fz(i, z, DP)\n",
    "Fz = CQ.compute_Fz(i, z, DP)\n",
    "Gz = CQ.compute_Gz(i, z, DP)\n",
    "hz = Jz / Kz\n",
    "print Dz, Jz, Kz, hz, fz, gz, Fz, Gz, Di"
   ]
  },
  {
   "cell_type": "code",
   "execution_count": 38,
   "metadata": {
    "collapsed": false
   },
   "outputs": [
    {
     "data": {
      "text/plain": [
       "(63955.992992263062, 6395079705806.9443)"
      ]
     },
     "execution_count": 38,
     "metadata": {},
     "output_type": "execute_result"
    }
   ],
   "source": [
    "(Jz*1e8 + 1)**2 / (Kz*1e8), (Jz+1)/Kz"
   ]
  },
  {
   "cell_type": "code",
   "execution_count": 39,
   "metadata": {
    "collapsed": false
   },
   "outputs": [
    {
     "data": {
      "text/plain": [
       "1.0553674443227999e-12"
      ]
     },
     "execution_count": 39,
     "metadata": {},
     "output_type": "execute_result"
    }
   ],
   "source": [
    "Jz**2 / Kz"
   ]
  },
  {
   "cell_type": "code",
   "execution_count": 40,
   "metadata": {
    "collapsed": false
   },
   "outputs": [
    {
     "data": {
      "text/plain": [
       "array([ 0.,  0.,  0.,  0.])"
      ]
     },
     "execution_count": 40,
     "metadata": {},
     "output_type": "execute_result"
    }
   ],
   "source": [
    "u_minus_v(x0, DP)"
   ]
  },
  {
   "cell_type": "code",
   "execution_count": 41,
   "metadata": {
    "collapsed": false
   },
   "outputs": [
    {
     "name": "stdout",
     "output_type": "stream",
     "text": [
      "u [  4.09479360e+16   4.09416520e+16   4.09416505e+16   4.09466384e+16]\n",
      "v [  4.09479360e+16   4.09416520e+16   4.09416505e+16   4.09466384e+16]\n"
     ]
    }
   ],
   "source": [
    "print 'u', CQ.compute_u(x0[:-1], DP)\n",
    "print 'v', CQ.compute_v(x0[:-1], DP)"
   ]
  },
  {
   "cell_type": "code",
   "execution_count": 51,
   "metadata": {
    "collapsed": false
   },
   "outputs": [
    {
     "data": {
      "text/plain": [
       "(6400, 4)"
      ]
     },
     "execution_count": 51,
     "metadata": {},
     "output_type": "execute_result"
    }
   ],
   "source": [
    "D.shape"
   ]
  },
  {
   "cell_type": "code",
   "execution_count": 49,
   "metadata": {
    "collapsed": false
   },
   "outputs": [
    {
     "name": "stdout",
     "output_type": "stream",
     "text": [
      "2.0 4.08970444436e+25\n"
     ]
    },
    {
     "data": {
      "text/plain": [
       "1359387447.9372702"
      ]
     },
     "execution_count": 49,
     "metadata": {},
     "output_type": "execute_result"
    }
   ],
   "source": [
    "print y[i], Fz\n",
    "D[i,1] * (Fz)# + 2*gz*y[i]) # + y[i]**2)"
   ]
  },
  {
   "cell_type": "code",
   "execution_count": 27,
   "metadata": {
    "collapsed": false
   },
   "outputs": [
    {
     "data": {
      "text/plain": [
       "array([ 1.69309  ,  2.383255 ,  4.00707  , ...,  2.7125275,  2.08591  ,\n",
       "        1.8931275])"
      ]
     },
     "execution_count": 27,
     "metadata": {},
     "output_type": "execute_result"
    }
   ],
   "source": [
    "DP.get_H()"
   ]
  },
  {
   "cell_type": "code",
   "execution_count": null,
   "metadata": {
    "collapsed": true
   },
   "outputs": [],
   "source": []
  }
 ],
 "metadata": {
  "kernelspec": {
   "display_name": "Python 2",
   "language": "python",
   "name": "python2"
  },
  "language_info": {
   "codemirror_mode": {
    "name": "ipython",
    "version": 2
   },
   "file_extension": ".py",
   "mimetype": "text/x-python",
   "name": "python",
   "nbconvert_exporter": "python",
   "pygments_lexer": "ipython2",
   "version": "2.7.12"
  }
 },
 "nbformat": 4,
 "nbformat_minor": 1
}
